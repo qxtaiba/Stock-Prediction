{
  "nbformat": 4,
  "nbformat_minor": 0,
  "metadata": {
    "colab": {
      "name": "Untitled0.ipynb",
      "provenance": []
    },
    "kernelspec": {
      "name": "python3",
      "display_name": "Python 3"
    }
  },
  "cells": [
    {
      "cell_type": "code",
      "metadata": {
        "id": "h6IF8tdZtpZ9",
        "colab_type": "code",
        "colab": {}
      },
      "source": [
        "#install dependencies \n",
        "\n",
        "import quandl\n",
        "import numpy as np\n",
        "from sklearn.linear_model import LinearRegression\n",
        "from sklearn.svm import SVR\n",
        "from sklearn.model_selection import train_test_split\n"
      ],
      "execution_count": 0,
      "outputs": []
    },
    {
      "cell_type": "code",
      "metadata": {
        "id": "X6GWpVGouTUz",
        "colab_type": "code",
        "colab": {
          "base_uri": "https://localhost:8080/",
          "height": 272
        },
        "outputId": "ba924be9-8fb2-41a9-dbe7-cec581600edc"
      },
      "source": [
        "#import stock data\n",
        "\n",
        "dataFrame = quandl.get(\"WIKI/FB\")\n",
        "print(dataFrame)"
      ],
      "execution_count": 57,
      "outputs": [
        {
          "output_type": "stream",
          "text": [
            "              Open    High     Low  ...  Adj. Low  Adj. Close  Adj. Volume\n",
            "Date                                ...                                   \n",
            "2012-05-18   42.05   45.00   38.00  ...     38.00     38.2318  573576400.0\n",
            "2012-05-21   36.53   36.66   33.00  ...     33.00     34.0300  168192700.0\n",
            "2012-05-22   32.61   33.59   30.94  ...     30.94     31.0000  101786600.0\n",
            "2012-05-23   31.37   32.50   31.36  ...     31.36     32.0000   73600000.0\n",
            "2012-05-24   32.95   33.21   31.77  ...     31.77     33.0300   50237200.0\n",
            "...            ...     ...     ...  ...       ...         ...          ...\n",
            "2018-03-21  164.80  173.40  163.30  ...    163.30    169.3900  105350867.0\n",
            "2018-03-22  166.13  170.27  163.72  ...    163.72    164.8900   73389988.0\n",
            "2018-03-23  165.44  167.10  159.02  ...    159.02    159.3900   52306891.0\n",
            "2018-03-26  160.82  161.10  149.02  ...    149.02    160.0600  125438294.0\n",
            "2018-03-27  156.31  162.85  150.75  ...    150.75    152.1900   76787884.0\n",
            "\n",
            "[1472 rows x 12 columns]\n"
          ],
          "name": "stdout"
        }
      ]
    },
    {
      "cell_type": "code",
      "metadata": {
        "id": "Dg8O7AOTu4Q8",
        "colab_type": "code",
        "colab": {
          "base_uri": "https://localhost:8080/",
          "height": 272
        },
        "outputId": "a062bf56-ebcb-4de4-ce38-85d6625f374d"
      },
      "source": [
        "#isolate Adj. Close from dataFrame\n",
        "\n",
        "dataFrame = dataFrame[[\"Adj. Close\"]]\n",
        "print(dataFrame)"
      ],
      "execution_count": 58,
      "outputs": [
        {
          "output_type": "stream",
          "text": [
            "            Adj. Close\n",
            "Date                  \n",
            "2012-05-18     38.2318\n",
            "2012-05-21     34.0300\n",
            "2012-05-22     31.0000\n",
            "2012-05-23     32.0000\n",
            "2012-05-24     33.0300\n",
            "...                ...\n",
            "2018-03-21    169.3900\n",
            "2018-03-22    164.8900\n",
            "2018-03-23    159.3900\n",
            "2018-03-26    160.0600\n",
            "2018-03-27    152.1900\n",
            "\n",
            "[1472 rows x 1 columns]\n"
          ],
          "name": "stdout"
        }
      ]
    },
    {
      "cell_type": "code",
      "metadata": {
        "id": "piJiL4dOvG4u",
        "colab_type": "code",
        "colab": {
          "base_uri": "https://localhost:8080/",
          "height": 272
        },
        "outputId": "50f9bec6-901f-48fc-9a4a-c884b0292c6f"
      },
      "source": [
        "#variable that will allow you to predict\"n\" days out into the future\n",
        "\n",
        "predictOut = 30\n",
        "\n",
        "dataFrame[\"Prediction\"] = dataFrame[[\"Adj. Close\"]].shift(-30)\n",
        "\n",
        "print (dataFrame)"
      ],
      "execution_count": 59,
      "outputs": [
        {
          "output_type": "stream",
          "text": [
            "            Adj. Close  Prediction\n",
            "Date                              \n",
            "2012-05-18     38.2318      30.771\n",
            "2012-05-21     34.0300      31.200\n",
            "2012-05-22     31.0000      31.470\n",
            "2012-05-23     32.0000      31.730\n",
            "2012-05-24     33.0300      32.170\n",
            "...                ...         ...\n",
            "2018-03-21    169.3900         NaN\n",
            "2018-03-22    164.8900         NaN\n",
            "2018-03-23    159.3900         NaN\n",
            "2018-03-26    160.0600         NaN\n",
            "2018-03-27    152.1900         NaN\n",
            "\n",
            "[1472 rows x 2 columns]\n"
          ],
          "name": "stdout"
        }
      ]
    },
    {
      "cell_type": "code",
      "metadata": {
        "id": "ChQWmKgAwbPp",
        "colab_type": "code",
        "colab": {
          "base_uri": "https://localhost:8080/",
          "height": 136
        },
        "outputId": "39e79381-dc3e-4d74-c6a8-92464bab3885"
      },
      "source": [
        "#independant data set (X)\n",
        "\n",
        "#convert dataFrame to numpy array\n",
        "X = np.array(dataFrame.drop([\"Prediction\"],1))\n",
        "\n",
        "#remove the last \"n\" rows with result NaN\n",
        "X = X[:-predictOut]\n",
        "\n",
        "print (X)"
      ],
      "execution_count": 60,
      "outputs": [
        {
          "output_type": "stream",
          "text": [
            "[[ 38.2318]\n",
            " [ 34.03  ]\n",
            " [ 31.    ]\n",
            " ...\n",
            " [171.5499]\n",
            " [175.98  ]\n",
            " [176.41  ]]\n"
          ],
          "name": "stdout"
        }
      ]
    },
    {
      "cell_type": "code",
      "metadata": {
        "id": "gSMEzjxDxDr5",
        "colab_type": "code",
        "colab": {
          "base_uri": "https://localhost:8080/",
          "height": 34
        },
        "outputId": "91998d62-3ca8-43a5-c9a1-afddfe8fe0a3"
      },
      "source": [
        "#dependent data set (Y)\n",
        "\n",
        "#convert dataFrame to numpy array\n",
        "Y = np.array(dataFrame[\"Prediction\"])\n",
        "\n",
        "#remove the last \"n\" rows with result NaN\n",
        "Y = Y[:-predictOut]\n",
        "\n",
        "print(Y)"
      ],
      "execution_count": 61,
      "outputs": [
        {
          "output_type": "stream",
          "text": [
            "[ 30.771  31.2    31.47  ... 159.39  160.06  152.19 ]\n"
          ],
          "name": "stdout"
        }
      ]
    },
    {
      "cell_type": "code",
      "metadata": {
        "id": "UOblWSmSx105",
        "colab_type": "code",
        "colab": {}
      },
      "source": [
        "#split data into 80% train and 20% test\n",
        "\n",
        "x_train, x_test, y_train, y_test = train_test_split(X, Y, test_size=0.2)"
      ],
      "execution_count": 0,
      "outputs": []
    },
    {
      "cell_type": "code",
      "metadata": {
        "id": "CEsDoCemx-5M",
        "colab_type": "code",
        "colab": {
          "base_uri": "https://localhost:8080/",
          "height": 51
        },
        "outputId": "7d6d3e2a-2eb3-497d-d178-f07e53c9aacc"
      },
      "source": [
        "#create and train support vector machine\n",
        "\n",
        "svr_rbf = SVR(kernel='rbf', C=1e3, gamma=0.1)\n",
        "svr_rbf.fit(x_train, y_train)\n"
      ],
      "execution_count": 63,
      "outputs": [
        {
          "output_type": "execute_result",
          "data": {
            "text/plain": [
              "SVR(C=1000.0, cache_size=200, coef0=0.0, degree=3, epsilon=0.1, gamma=0.1,\n",
              "    kernel='rbf', max_iter=-1, shrinking=True, tol=0.001, verbose=False)"
            ]
          },
          "metadata": {
            "tags": []
          },
          "execution_count": 63
        }
      ]
    },
    {
      "cell_type": "code",
      "metadata": {
        "id": "hI8y2_-PyNuh",
        "colab_type": "code",
        "colab": {
          "base_uri": "https://localhost:8080/",
          "height": 34
        },
        "outputId": "136c8006-de97-42b2-f076-c7bbe88d3118"
      },
      "source": [
        "#testing model\n",
        "\n",
        "svm_confidence = svr_rbf.score(x_test, y_test)\n",
        "print(\"svm confidence: \", svm_confidence)\n"
      ],
      "execution_count": 64,
      "outputs": [
        {
          "output_type": "stream",
          "text": [
            "svm confidence:  0.9759257401011224\n"
          ],
          "name": "stdout"
        }
      ]
    },
    {
      "cell_type": "code",
      "metadata": {
        "id": "Qwz1NSA6yRqB",
        "colab_type": "code",
        "colab": {
          "base_uri": "https://localhost:8080/",
          "height": 34
        },
        "outputId": "9ef53731-edeb-4314-9ee5-32676b3c8cf1"
      },
      "source": [
        "#create and train the linear regression  \n",
        "\n",
        "lr = LinearRegression()\n",
        "lr.fit(x_train, y_train)\n"
      ],
      "execution_count": 65,
      "outputs": [
        {
          "output_type": "execute_result",
          "data": {
            "text/plain": [
              "LinearRegression(copy_X=True, fit_intercept=True, n_jobs=None, normalize=False)"
            ]
          },
          "metadata": {
            "tags": []
          },
          "execution_count": 65
        }
      ]
    },
    {
      "cell_type": "code",
      "metadata": {
        "id": "9oM3uqlkyU6R",
        "colab_type": "code",
        "colab": {
          "base_uri": "https://localhost:8080/",
          "height": 34
        },
        "outputId": "6214639c-fea5-45eb-9179-642281760bff"
      },
      "source": [
        "#testing model\n",
        "\n",
        "lr_confidence = lr.score(x_test, y_test)\n",
        "print(\"lr confidence: \", lr_confidence)"
      ],
      "execution_count": 66,
      "outputs": [
        {
          "output_type": "stream",
          "text": [
            "lr confidence:  0.9827541838402234\n"
          ],
          "name": "stdout"
        }
      ]
    },
    {
      "cell_type": "code",
      "metadata": {
        "id": "hyXD4vEYyca0",
        "colab_type": "code",
        "colab": {
          "base_uri": "https://localhost:8080/",
          "height": 527
        },
        "outputId": "c4b3efbe-00f4-43c5-c19f-3d9495ec753a"
      },
      "source": [
        "#x_forecast equal to the last \"n\" rows of the original data set from Adj. Close \n",
        "\n",
        "x_forecast = np.array(dataFrame.drop(['Prediction'],1))[-predictOut:]\n",
        "print(x_forecast)\n"
      ],
      "execution_count": 67,
      "outputs": [
        {
          "output_type": "stream",
          "text": [
            "[[173.15]\n",
            " [179.52]\n",
            " [179.96]\n",
            " [177.36]\n",
            " [176.01]\n",
            " [177.91]\n",
            " [178.99]\n",
            " [183.29]\n",
            " [184.93]\n",
            " [181.46]\n",
            " [178.32]\n",
            " [175.94]\n",
            " [176.62]\n",
            " [180.4 ]\n",
            " [179.78]\n",
            " [183.71]\n",
            " [182.34]\n",
            " [185.23]\n",
            " [184.76]\n",
            " [181.88]\n",
            " [184.19]\n",
            " [183.86]\n",
            " [185.09]\n",
            " [172.56]\n",
            " [168.15]\n",
            " [169.39]\n",
            " [164.89]\n",
            " [159.39]\n",
            " [160.06]\n",
            " [152.19]]\n"
          ],
          "name": "stdout"
        }
      ]
    },
    {
      "cell_type": "code",
      "metadata": {
        "id": "dJy7QyZcyep1",
        "colab_type": "code",
        "colab": {
          "base_uri": "https://localhost:8080/",
          "height": 221
        },
        "outputId": "ece10731-6076-441d-e2bc-69b2d57dfbc5"
      },
      "source": [
        "# linear regression model predictions for the next 'n' days\n",
        "\n",
        "lr_prediction = lr.predict(x_forecast)\n",
        "print(lr_prediction)\n",
        "\n",
        "#support vector regressor model predictions for the next 'n' days\n",
        "\n",
        "svm_prediction = svr_rbf.predict(x_forecast)\n",
        "print(svm_prediction)\n"
      ],
      "execution_count": 69,
      "outputs": [
        {
          "output_type": "stream",
          "text": [
            "[177.15982005 183.60314593 184.04821082 181.41828189 180.05274187\n",
            " 181.97461301 183.06704503 187.41654288 189.07542112 185.56547751\n",
            " 182.38933257 179.98193609 180.66976366 184.49327572 183.86613882\n",
            " 187.84137755 186.45560731 189.37887446 188.90346423 185.99031219\n",
            " 188.32690289 187.99310422 189.23726291 176.56302848 172.10226441\n",
            " 173.35653821 168.80473814 163.24142694 163.91913939 155.95854682]\n",
            "[174.52008447 181.35282921 180.97231548 175.45582666 175.22418311\n",
            " 177.35875369 181.02887439 179.23567548 178.35264365 180.66197192\n",
            " 179.04122976 175.30632572 174.65791822 180.47613032 181.16986601\n",
            " 178.14723051 181.08847284 179.22917855 177.95768265 181.04508026\n",
            " 177.47620419 177.84730497 178.79857093 175.3526897  171.02102784\n",
            " 171.90651012 172.22167232 167.73620559 166.62296973 161.13582469]\n"
          ],
          "name": "stdout"
        }
      ]
    }
  ]
}